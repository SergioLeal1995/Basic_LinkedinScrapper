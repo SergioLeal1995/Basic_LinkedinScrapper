{
 "cells": [
  {
   "cell_type": "code",
   "execution_count": 74,
   "metadata": {},
   "outputs": [],
   "source": [
    "from selenium import webdriver\n",
    "from selenium.webdriver.common.keys import Keys\n",
    "from selenium.webdriver.chrome.options import Options\n",
    "from time import sleep\n",
    "\n",
    "from bs4 import BeautifulSoup\n",
    "import requests, random\n",
    "\n",
    "browser = webdriver.Chrome('chromedriver.exe')\n",
    "browser.get('https://co.linkedin.com/')\n",
    "browser.maximize_window()\n",
    "file = open('UserData.txt')\n",
    "lines = file.readlines()\n",
    "username = lines[3]\n",
    "password = lines[1]\n",
    "\n",
    "browser.implicitly_wait(5)\n",
    "\n",
    "elementID = browser.find_element_by_id('session_key')\n",
    "elementID.send_keys(username)\n",
    "\n",
    "elementID = browser.find_element_by_id('session_password')\n",
    "elementID.send_keys(password)\n",
    "\n",
    "#elementID.submit()\n",
    "\n",
    "\n",
    "srch_btn = browser.find_element_by_xpath('//*[@id=\"global-nav-search\"]/div')\n",
    "srch_btn.click()\n",
    "srch_btn = browser.find_element_by_xpath('//*[@id=\"global-nav-typeahead\"]/input').send_keys(Keys.ENTER)\n",
    "sleep(random.uniform(2,6))\n",
    "\n",
    "#Está arrojando siempre error en esta sección\n",
    "people_btn = browser.find_element_by_xpath('/html/body/div[6]/div[3]/div/div[2]/section/div/nav/div/ul/li[1]/button')\n",
    "people_btn.click()\n",
    "sleep(random.uniform(2,6))\n",
    "\n"
   ]
  },
  {
   "cell_type": "code",
   "execution_count": 75,
   "metadata": {},
   "outputs": [],
   "source": [
    "location_btn = browser.find_element_by_xpath('/html/body/div[6]/div[3]/div/div[2]/section/div/nav/div/ul/li[4]/div/span/button')\n",
    "location_btn.click()\n",
    "sleep(random.uniform(2,6))\n",
    "\n",
    "loc_input_text = browser.find_element_by_xpath('/html/body/div[6]/div[3]/div/div[2]/section/div/nav/div/ul/li[4]/div/div/div/div[1]/div/form/fieldset/div[1]/div/div/input')\n",
    "loc_input_text.click()\n",
    "sleep(random.uniform(2,6))\n",
    "loc_input_text.send_keys(\"España\")\n",
    "\n",
    "sleep(random.uniform(2,6))\n",
    "loc_input_text.send_keys(Keys.ARROW_DOWN)\n",
    "sleep(random.uniform(2,6))\n",
    "loc_input_text.send_keys(Keys.ENTER)\n",
    "\n",
    "show_results_btn = browser.find_element_by_xpath('/html/body/div[6]/div[3]/div/div[2]/section/div/nav/div/ul/li[4]/div/div/div/div[1]/div/form/fieldset/div[2]/button[2]/span')\n",
    "show_results_btn.click()\n",
    "sleep(random.uniform(2,6))\n",
    "\n"
   ]
  },
  {
   "cell_type": "code",
   "execution_count": 76,
   "metadata": {},
   "outputs": [],
   "source": [
    "Allfilters = browser.find_element_by_xpath('/html/body/div[6]/div[3]/div/div[2]/section/div/nav/div/div/div/button')\n",
    "Allfilters.click()\n",
    "sleep(random.uniform(2,6))\n",
    "#----------------------------------------BUSCANDO EL SECTOR--------------------------------------------------\n",
    "#busco el boton de añadir\n",
    "sector = browser.find_element_by_xpath('/html/body/div[3]/div/div/div[2]/ul/li[7]/fieldset/div/ul/li[6]/button/span')\n",
    "sector.click()\n",
    "#busco el campo de entrada de texto\n",
    "sector = browser.find_element_by_xpath('/html/body/div[3]/div/div/div[2]/ul/li[7]/fieldset/div/ul/li[6]/div/div/input')\n",
    "\n",
    "file = open('SectoresSpain.txt')#El sector de mi interés está en un archivo .txt solo es de buscar y elegir\n",
    "lines_sec = file.readlines()\n",
    "sec = lines_sec[-1]\n",
    "\n",
    "sector.send_keys(sec)\n",
    "sleep(random.uniform(2,6))\n",
    "sector.send_keys(Keys.ARROW_DOWN)\n",
    "sleep(random.uniform(2,6))\n",
    "sector.send_keys(Keys.ENTER)\n",
    "#--------------------------------------------------------------------------------------------------------------\n",
    "\n",
    "cargo_in = browser.find_element_by_xpath('/html/body/div[3]/div/div/div[2]/ul/li[11]/ul/li[3]/label/input')\n",
    "cargo_in.click()\n",
    "\n",
    "car = ['CEO','CTO','Manager']#Acá se encuentran los cargos que deseo buscar o filtrar\n",
    "cargo_in.send_keys(car[0])\n",
    "\n",
    "shw_rslts = browser.find_element_by_xpath('/html/body/div[3]/div/div/div[3]/div/button[2]/span')\n",
    "shw_rslts.click()"
   ]
  },
  {
   "cell_type": "code",
   "execution_count": 77,
   "metadata": {},
   "outputs": [],
   "source": [
    "visitedProfiles = []\n",
    "profilesQueued = []\n",
    "\n",
    "def getNewProfilesIDs(soup, profilesQueued):\n",
    "    print('Executing getNewProfilesIDs function')\n",
    "    profilesID = []\n",
    "    pav = soup.find('ul', {'class':'reusable-search__entity-result-list list-style-none'})\n",
    "    all_links = pav.findAll('a', {'class':'app-aware-link'})\n",
    "    #print(all_links)\n",
    "    for link in all_links:\n",
    "        userID = link.get('href')\n",
    "        #print(userID)\n",
    "        if((userID not in profilesQueued) and (userID not in visitedProfiles)):\n",
    "            profilesID.append(userID)\n",
    "    print('End getNewProfilesIDs function')\n",
    "    \n",
    "    return profilesID"
   ]
  },
  {
   "cell_type": "code",
   "execution_count": 89,
   "metadata": {},
   "outputs": [
    {
     "name": "stdout",
     "output_type": "stream",
     "text": [
      "Executing getNewProfilesIDs function\n",
      "End getNewProfilesIDs function\n"
     ]
    }
   ],
   "source": [
    "IDs = getNewProfilesIDs(BeautifulSoup(browser.page_source), profilesQueued)\n",
    "IDs = set(IDs)\n",
    "IDs = list(IDs)"
   ]
  },
  {
   "cell_type": "code",
   "execution_count": 90,
   "metadata": {},
   "outputs": [
    {
     "data": {
      "text/plain": [
       "['https://www.linkedin.com/in/jnegretedc?miniProfileUrn=urn%3Ali%3Afs_miniProfile%3AACoAAACZE_oB4zzGp4RN_TvMzy_kntMXpMCml0Y',\n",
       " 'https://www.linkedin.com/in/spestrin?miniProfileUrn=urn%3Ali%3Afs_miniProfile%3AACoAAAGceM8BghrS3XkYeWhpZmICZ4_LF7xhThM',\n",
       " 'https://www.linkedin.com/in/ACoAAA9oy1QBdcb8DsWrhpkOhyonHQ3l2HCLWUc?miniProfileUrn=urn%3Ali%3Afs_miniProfile%3AACoAAA9oy1QBdcb8DsWrhpkOhyonHQ3l2HCLWUc',\n",
       " 'https://www.linkedin.com/in/aleixdelarubia?miniProfileUrn=urn%3Ali%3Afs_miniProfile%3AACoAACf2Br8B3ya_XjXqbGbGPP0UmF1L_ZQhaNU',\n",
       " 'https://www.linkedin.com/in/krojan?miniProfileUrn=urn%3Ali%3Afs_miniProfile%3AACoAAABZrJYBa7odAzGQz6-Pl0Hd1PupcGTEwNg',\n",
       " 'https://www.linkedin.com/in/guillemtorresp?miniProfileUrn=urn%3Ali%3Afs_miniProfile%3AACoAABhOSLsBm62Isz1yHJ4lFoutf32NcqVLMlg',\n",
       " 'https://www.linkedin.com/search/results/people/headless?geoUrn=%5B105646813%5D&industry=%5B4%5D&title=CEO&origin=FACETED_SEARCH',\n",
       " 'https://www.linkedin.com/in/ACoAABZUVsIBIt8hUGA0MP2L5oKWn5RZyE0tW5A?miniProfileUrn=urn%3Ali%3Afs_miniProfile%3AACoAABZUVsIBIt8hUGA0MP2L5oKWn5RZyE0tW5A',\n",
       " 'https://www.linkedin.com/in/luis-flores-opensistemas?miniProfileUrn=urn%3Ali%3Afs_miniProfile%3AACoAAAEIPdMBhvJau0iMP-ML4WcIao_PnZA9kHs',\n",
       " 'https://www.linkedin.com/in/enrique-de-hoyos-8588717?miniProfileUrn=urn%3Ali%3Afs_miniProfile%3AACoAAAFfkoQBoPW8HhG2rhDqmP4YBdtM6bPuC8Y',\n",
       " 'https://www.linkedin.com/in/msfrasca?miniProfileUrn=urn%3Ali%3Afs_miniProfile%3AACoAAAE5piUBS1fCM-SZ8iB_rHHOBlbokHDi0YU']"
      ]
     },
     "execution_count": 90,
     "metadata": {},
     "output_type": "execute_result"
    }
   ],
   "source": [
    "IDs"
   ]
  },
  {
   "cell_type": "code",
   "execution_count": 91,
   "metadata": {},
   "outputs": [
    {
     "data": {
      "text/plain": [
       "[['https://www.linkedin.com/in/jnegretedc',\n",
       "  'miniProfileUrn=urn%3Ali%3Afs_miniProfile%3AACoAAACZE_oB4zzGp4RN_TvMzy_kntMXpMCml0Y'],\n",
       " ['https://www.linkedin.com/in/spestrin',\n",
       "  'miniProfileUrn=urn%3Ali%3Afs_miniProfile%3AACoAAAGceM8BghrS3XkYeWhpZmICZ4_LF7xhThM'],\n",
       " ['https://www.linkedin.com/in/ACoAAA9oy1QBdcb8DsWrhpkOhyonHQ3l2HCLWUc',\n",
       "  'miniProfileUrn=urn%3Ali%3Afs_miniProfile%3AACoAAA9oy1QBdcb8DsWrhpkOhyonHQ3l2HCLWUc'],\n",
       " ['https://www.linkedin.com/in/aleixdelarubia',\n",
       "  'miniProfileUrn=urn%3Ali%3Afs_miniProfile%3AACoAACf2Br8B3ya_XjXqbGbGPP0UmF1L_ZQhaNU'],\n",
       " ['https://www.linkedin.com/in/krojan',\n",
       "  'miniProfileUrn=urn%3Ali%3Afs_miniProfile%3AACoAAABZrJYBa7odAzGQz6-Pl0Hd1PupcGTEwNg'],\n",
       " ['https://www.linkedin.com/in/guillemtorresp',\n",
       "  'miniProfileUrn=urn%3Ali%3Afs_miniProfile%3AACoAABhOSLsBm62Isz1yHJ4lFoutf32NcqVLMlg'],\n",
       " ['https://www.linkedin.com/search/results/people/headless',\n",
       "  'geoUrn=%5B105646813%5D&industry=%5B4%5D&title=CEO&origin=FACETED_SEARCH'],\n",
       " ['https://www.linkedin.com/in/ACoAABZUVsIBIt8hUGA0MP2L5oKWn5RZyE0tW5A',\n",
       "  'miniProfileUrn=urn%3Ali%3Afs_miniProfile%3AACoAABZUVsIBIt8hUGA0MP2L5oKWn5RZyE0tW5A'],\n",
       " ['https://www.linkedin.com/in/luis-flores-opensistemas',\n",
       "  'miniProfileUrn=urn%3Ali%3Afs_miniProfile%3AACoAAAEIPdMBhvJau0iMP-ML4WcIao_PnZA9kHs'],\n",
       " ['https://www.linkedin.com/in/enrique-de-hoyos-8588717',\n",
       "  'miniProfileUrn=urn%3Ali%3Afs_miniProfile%3AACoAAAFfkoQBoPW8HhG2rhDqmP4YBdtM6bPuC8Y'],\n",
       " ['https://www.linkedin.com/in/msfrasca',\n",
       "  'miniProfileUrn=urn%3Ali%3Afs_miniProfile%3AACoAAAE5piUBS1fCM-SZ8iB_rHHOBlbokHDi0YU']]"
      ]
     },
     "execution_count": 91,
     "metadata": {},
     "output_type": "execute_result"
    }
   ],
   "source": [
    "for i in range(len(IDs)):\n",
    "    IDs[i] = IDs[i].split(\"?\")\n",
    "IDs"
   ]
  },
  {
   "cell_type": "code",
   "execution_count": 92,
   "metadata": {},
   "outputs": [
    {
     "data": {
      "text/plain": [
       "[['https://www.linkedin.com/in/jnegretedc'],\n",
       " ['https://www.linkedin.com/in/spestrin'],\n",
       " ['https://www.linkedin.com/in/ACoAAA9oy1QBdcb8DsWrhpkOhyonHQ3l2HCLWUc'],\n",
       " ['https://www.linkedin.com/in/aleixdelarubia'],\n",
       " ['https://www.linkedin.com/in/krojan'],\n",
       " ['https://www.linkedin.com/in/guillemtorresp'],\n",
       " ['https://www.linkedin.com/search/results/people/headless'],\n",
       " ['https://www.linkedin.com/in/ACoAABZUVsIBIt8hUGA0MP2L5oKWn5RZyE0tW5A'],\n",
       " ['https://www.linkedin.com/in/luis-flores-opensistemas'],\n",
       " ['https://www.linkedin.com/in/enrique-de-hoyos-8588717'],\n",
       " ['https://www.linkedin.com/in/msfrasca']]"
      ]
     },
     "execution_count": 92,
     "metadata": {},
     "output_type": "execute_result"
    }
   ],
   "source": [
    "for i in range(len(IDs)):\n",
    "    del IDs[i][1]\n",
    "IDs"
   ]
  },
  {
   "cell_type": "code",
   "execution_count": 81,
   "metadata": {},
   "outputs": [
    {
     "data": {
      "text/plain": [
       "[['https://www.linkedin.com/in/msfrasca'],\n",
       " ['https://www.linkedin.com/in/msfrasca'],\n",
       " ['https://www.linkedin.com/in/ACoAABZUVsIBIt8hUGA0MP2L5oKWn5RZyE0tW5A'],\n",
       " ['https://www.linkedin.com/in/jnegretedc'],\n",
       " ['https://www.linkedin.com/in/jnegretedc'],\n",
       " ['https://www.linkedin.com/in/ACoAAA9oy1QBdcb8DsWrhpkOhyonHQ3l2HCLWUc'],\n",
       " ['https://www.linkedin.com/in/spestrin'],\n",
       " ['https://www.linkedin.com/in/spestrin'],\n",
       " ['https://www.linkedin.com/in/luis-flores-opensistemas'],\n",
       " ['https://www.linkedin.com/in/luis-flores-opensistemas'],\n",
       " ['https://www.linkedin.com/in/aleixdelarubia'],\n",
       " ['https://www.linkedin.com/in/aleixdelarubia'],\n",
       " ['https://www.linkedin.com/in/enrique-de-hoyos-8588717'],\n",
       " ['https://www.linkedin.com/in/enrique-de-hoyos-8588717'],\n",
       " ['https://www.linkedin.com/search/results/people/headless'],\n",
       " ['https://www.linkedin.com/search/results/people/headless'],\n",
       " ['https://www.linkedin.com/in/krojan'],\n",
       " ['https://www.linkedin.com/in/krojan'],\n",
       " ['https://www.linkedin.com/search/results/people/headless'],\n",
       " ['https://www.linkedin.com/search/results/people/headless'],\n",
       " ['https://www.linkedin.com/in/guillemtorresp'],\n",
       " ['https://www.linkedin.com/in/guillemtorresp']]"
      ]
     },
     "execution_count": 81,
     "metadata": {},
     "output_type": "execute_result"
    }
   ],
   "source": [
    "for i in range(len(IDs)):\n",
    "    IDs[i].pop(1)\n",
    "IDs"
   ]
  },
  {
   "cell_type": "code",
   "execution_count": null,
   "metadata": {},
   "outputs": [],
   "source": [
    "result = []\n",
    "for item in IDs:\n",
    "    if item not in result:\n",
    "        result.append(item)\n",
    "#--------------------------------------------------------------------------\n",
    "noUser = 'https://www.linkedin.com/search/results/people/headless'\n",
    "for i in range(len(result)):\n",
    "    if result[i][0]==noUser:\n",
    "        result.pop(i)\n",
    "        break\n",
    "#--------------------------------------------------------------------------"
   ]
  },
  {
   "cell_type": "code",
   "execution_count": 14,
   "metadata": {},
   "outputs": [
    {
     "data": {
      "text/plain": [
       "[['https://www.linkedin.com/in/msfrasca'],\n",
       " ['https://www.linkedin.com/in/ACoAABZUVsIBIt8hUGA0MP2L5oKWn5RZyE0tW5A'],\n",
       " ['https://www.linkedin.com/in/jnegretedc'],\n",
       " ['https://www.linkedin.com/in/ACoAAA9oy1QBdcb8DsWrhpkOhyonHQ3l2HCLWUc'],\n",
       " ['https://www.linkedin.com/in/spestrin'],\n",
       " ['https://www.linkedin.com/in/luis-flores-opensistemas'],\n",
       " ['https://www.linkedin.com/in/aleixdelarubia'],\n",
       " ['https://www.linkedin.com/in/enrique-de-hoyos-8588717'],\n",
       " ['https://www.linkedin.com/in/krojan'],\n",
       " ['https://www.linkedin.com/in/guillemtorresp']]"
      ]
     },
     "execution_count": 14,
     "metadata": {},
     "output_type": "execute_result"
    }
   ],
   "source": [
    "result"
   ]
  },
  {
   "cell_type": "code",
   "execution_count": 15,
   "metadata": {},
   "outputs": [],
   "source": [
    "url = \"\".join(result[3]) #Inicio del scraping principal por usuario"
   ]
  },
  {
   "cell_type": "code",
   "execution_count": 16,
   "metadata": {},
   "outputs": [
    {
     "name": "stdout",
     "output_type": "stream",
     "text": [
      "https://www.linkedin.com/in/ACoAAA9oy1QBdcb8DsWrhpkOhyonHQ3l2HCLWUc\n"
     ]
    }
   ],
   "source": [
    "print(url)\n",
    "#-------------------------------------------------------------------\n",
    "browser.get(url)"
   ]
  },
  {
   "cell_type": "code",
   "execution_count": 17,
   "metadata": {},
   "outputs": [
    {
     "data": {
      "text/plain": [
       "['https://www.linkedin.com/in/ACoAAA9oy1QBdcb8DsWrhpkOhyonHQ3l2HCLWUc',\n",
       " 'Johanna Zuluaga',\n",
       " 'Account Executive, IT sales  I Project Manager  I Apps, Games, VR & AR maker I SAAS I Activación de marca con tecnologías innovadoras I Gamification  I Coach de Emprendimiento marketing y ventas.',\n",
       " 'MediaFeel SAS',\n",
       " 'TECNOLÓGICO DE MONTERREY',\n",
       " 'Zona Urbana Medellín, Antioquia, Colombia',\n",
       " '6,436']"
      ]
     },
     "execution_count": 17,
     "metadata": {},
     "output_type": "execute_result"
    }
   ],
   "source": [
    "#-------------------------------------------------------------------\n",
    "src = browser.page_source\n",
    "soup = BeautifulSoup(src, 'lxml')\n",
    "#soup\n",
    "#-------------------------------------------------------------------\n",
    "name_div = soup.find('div',{'class':'ph5'})\n",
    "#name_div\n",
    "#-------------------------------------------------------------------\n",
    "name_loc = name_div.find_all('div', {'class':'mt2 relative'})\n",
    "name = name_loc[0].find('h1').get_text().strip()\n",
    "#name\n",
    "#-------------------------------------------------------------------\n",
    "comp = name_div.find_all('div', {'class':'text-body-medium break-words'})\n",
    "profileTitle = comp[0].get_text().strip()\n",
    "profileTitle\n",
    "#-------------------------------------------------------------------\n",
    "righ_panel = name_div.find_all('div', {'class':'mt2 relative'})\n",
    "righ = righ_panel[0].find('ul').get_text().strip().split(\"\\n\")\n",
    "curr_job = righ[0]\n",
    "last_edu = righ[-1].strip()\n",
    "#-------------------------------------------------------------------\n",
    "loc = name_loc[0].find('div',{'class':'pb2 pv-text-details__left-panel'})\n",
    "loc = loc.find('span').get_text().strip()\n",
    "#-------------------------------------------------------------------\n",
    "connections = name_div.find('span',{'class':'t-bold'}).get_text().strip()\n",
    "#-------------------------------------------------------------------\n",
    "info = []\n",
    "info.append(url)\n",
    "info.append(name)\n",
    "info.append(profileTitle)\n",
    "info.append(curr_job)\n",
    "info.append(last_edu)\n",
    "info.append(loc)\n",
    "info.append(connections)\n",
    "info      #Final del scraping principal para el usuario\n",
    "#-------------------------------------------------------------------"
   ]
  },
  {
   "cell_type": "code",
   "execution_count": 18,
   "metadata": {},
   "outputs": [],
   "source": [
    "import gspread\n",
    "from oauth2client.service_account import ServiceAccountCredentials\n",
    "from gspread.models import Cell\n",
    "\n",
    "scope = [\"https://spreadsheets.google.com/feeds\",'https://www.googleapis.com/auth/spreadsheets',\"https://www.googleapis.com/auth/drive.file\",\"https://www.googleapis.com/auth/drive\"]   \n",
    "\n",
    "credentials = ServiceAccountCredentials.\\\n",
    "from_json_keyfile_name('Keys.json',scope)\n",
    "client=gspread.authorize(credentials)\n",
    "sheet = client.open('LinkeBot-Spreadsheet').sheet1"
   ]
  },
  {
   "cell_type": "code",
   "execution_count": 19,
   "metadata": {},
   "outputs": [
    {
     "data": {
      "text/plain": [
       "{'spreadsheetId': '1_X3x9pieuKLMtf1UERWe86YZHe1penLfBWrdzBfuGlc',\n",
       " 'updatedRange': \"'Hoja 1'!B5:H5\",\n",
       " 'updatedRows': 1,\n",
       " 'updatedColumns': 7,\n",
       " 'updatedCells': 7}"
      ]
     },
     "execution_count": 19,
     "metadata": {},
     "output_type": "execute_result"
    }
   ],
   "source": [
    "cells = []\n",
    "k = 5\n",
    "for j in range(len(info)):\n",
    "    cells.append(Cell(row=k,col=j+2, value=info[j]))\n",
    "sheet.update_cells(cells)"
   ]
  },
  {
   "cell_type": "code",
   "execution_count": 46,
   "metadata": {},
   "outputs": [],
   "source": [
    "from selenium.common.exceptions import NoSuchElementException\n",
    "array = ['/html/body/div[5]/div[3]/div/div[2]/div/div[1]/main/div/div/div[4]/div/div/button[2]/span',\n",
    "         '/html/body/div[5]/div[3]/div/div[2]/div/div[1]/main/div/div/div[5]/div/div/button[2]/span',\n",
    "         '/html/body/div[6]/div[3]/div/div[2]/div/div[1]/main/div/div/div[5]/div/div/button[2]/span',\n",
    "         '/html/body/div[6]/div[3]/div/div[2]/div/div[1]/main/div/div/div[4]/div/div/button[2]/span',\n",
    "         '/html/body/div[5]/div[3]/div/div[2]/div/div[1]/main/div/div/div[2]/div[2]/div/button[2]/span',\n",
    "         '/html/body/div[6]/div[3]/div/div[2]/div/div[1]/main/div/div/div[2]/div[2]/div/button[2]/span']"
   ]
  },
  {
   "cell_type": "code",
   "execution_count": 73,
   "metadata": {},
   "outputs": [
    {
     "name": "stdout",
     "output_type": "stream",
     "text": [
      "3\n"
     ]
    }
   ],
   "source": [
    "d=0\n",
    "var = False\n",
    "while var==False:\n",
    "    try:\n",
    "        browser.execute_script(\"window.scrollTo(0, 1000)\") \n",
    "        var = browser.find_element_by_xpath(array[d]).is_displayed()\n",
    "        j=d\n",
    "        print(j)\n",
    "        break\n",
    "    except NoSuchElementException:\n",
    "        d=d+1\n",
    "browser.find_element_by_xpath(array[j]).click()"
   ]
  }
 ],
 "metadata": {
  "kernelspec": {
   "display_name": "Python 3 (ipykernel)",
   "language": "python",
   "name": "python3"
  },
  "language_info": {
   "codemirror_mode": {
    "name": "ipython",
    "version": 3
   },
   "file_extension": ".py",
   "mimetype": "text/x-python",
   "name": "python",
   "nbconvert_exporter": "python",
   "pygments_lexer": "ipython3",
   "version": "3.7.6"
  }
 },
 "nbformat": 4,
 "nbformat_minor": 4
}
